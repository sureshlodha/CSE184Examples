{
 "cells": [
  {
   "cell_type": "code",
   "execution_count": 16,
   "metadata": {
    "slideshow": {
     "slide_type": "slide"
    }
   },
   "outputs": [
    {
     "name": "stdout",
     "output_type": "stream",
     "text": [
      "https://www.nytimes.com/2019/05/14/briefing/trade-boeing-gen-x.html\n",
      "https://www.nytimes.com/2019/05/14/podcasts/the-daily/rashida-tlaib-israel-palestinians.html\n",
      "https://www.nytimes.com/2019/05/14/health/women-alcohol-drinking.html\n"
     ]
    }
   ],
   "source": [
    "from bs4 import BeautifulSoup\n",
    "import urllib.request\n",
    "import nltk\n",
    "import heapq\n",
    "from nltk.corpus import stopwords\n",
    "from nltk.tokenize import word_tokenize\n",
    "from nltk.tokenize import sent_tokenize\n",
    "\n",
    "# Send a request to NYTimes\n",
    "response = urllib.request.urlopen('https://www.nytimes.com') \n",
    "html = response.read()\n",
    "soup = BeautifulSoup(html, 'html.parser')\n",
    "\n",
    "articles = soup.findAll('article')\n",
    "\n",
    "titles = []\n",
    "urls = []\n",
    "\n",
    "# Sample links\n",
    "# urls = ['https://www.nytimes.com/2019/05/14/podcasts/the-daily/rashida-tlaib-israel-palestinians.html', 'https://www.nytimes.com/2019/05/14/health/women-alcohol-drinking.html', 'https://www.nytimes.com/2019/05/14/us/politics/trump-tariffs-china.html', 'https://www.nytimes.com/2019/05/14/business/us-china-tariffs.html', 'https://www.nytimes.com/2019/05/14/us/nra-finances-executives-board-members.html', 'https://www.nytimes.com/2019/05/14/us/facial-recognition-ban-san-francisco.html', 'https://www.nytimes.com/2019/05/14/technology/google-shopping-amazon-rivalry.html', 'https://www.nytimes.com/2019/05/14/business/boeing-737-max-ethiopian-plane-crash.html', 'https://www.nytimes.com/2019/05/14/us/politics/trump-obstruction.html', 'https://www.nytimes.com/2019/05/14/us/politics/donald-trump-jr-intelligence-committee.html', 'https://www.nytimes.com/2019/05/14/us/politics/trump-financial-records-hearing.html', 'https://www.nytimes.com/2019/05/14/us/politics/trump-financial-records-hearing.html', 'https://www.nytimes.com/2019/05/14/opinion/china-privacy.html', 'https://www.nytimes.com/2019/05/14/opinion/john-durham-william-barr.html', 'https://www.nytimes.com/2019/05/14/opinion/trump-willmar-minnesota.html', 'https://www.nytimes.com/2019/05/14/opinion/undocumented-immigrants.html', 'https://www.nytimes.com/2019/05/14/opinion/central-park-suffrage-monument-racism.html', 'https://www.nytimes.com/2019/05/14/opinion/nike-maternity-pregnant-runners.html', 'https://www.nytimes.com/2019/05/14/opinion/data-privacy.html', 'https://www.nytimes.com/2019/05/14/opinion/cuomo-subway-mta.html', 'https://www.nytimes.com/2019/05/14/opinion/dont-visit-your-doctor-in-the-afternoon.html', 'https://www.nytimes.com/2019/05/14/opinion/de-gaulle-america-nationalism.html', 'https://www.nytimes.com/2019/05/14/opinion/de-gaulle-america-nationalism.html', 'https://www.nytimes.com/2019/05/14/dining/del-posto-review-pete-wells.html', 'https://www.nytimes.com/2019/05/14/style/james-charles-makeup-artist-youtube.html', 'https://www.nytimes.com/2019/05/12/arts/television/the-wonderful-weirdness-of-netflixs-first-great-sketch-comedy-show.html']\n",
    "\n",
    "# Go through all article classes and extract title and URL for each article\n",
    "for article in articles:\n",
    "    article_title = article.find(['span', 'h2', {'class': 'css-1qwxefa esl82me0'}]).text\n",
    "    titles.append(article_title)\n",
    "    if 'interactive' not in (article.contents[0].findAll('a')[0]).get('href'):   \n",
    "        url = \"https://www.nytimes.com\"+(article.contents[0].findAll('a')[0]).get('href')\n",
    "        urls.append(url)\n",
    "\n",
    "# Print first three URL's\n",
    "for url in urls[:3]:\n",
    "    print(url)"
   ]
  },
  {
   "cell_type": "code",
   "execution_count": 58,
   "metadata": {
    "scrolled": true,
    "slideshow": {
     "slide_type": "slide"
    }
   },
   "outputs": [
    {
     "name": "stdout",
     "output_type": "stream",
     "text": [
      "\n",
      "https://www.nytimes.com/2019/05/14/podcasts/the-daily/rashida-tlaib-israel-palestinians.html\n",
      "['Listen and subscribe to our podcast from your mobile device: Via Apple Podcasts | Via RadioPublic | Via Stitcher', 'When we last spoke with Representative Rashida Tlaib, she had just been sworn in — and had fulfilled the fears of Democratic leaders by calling for the impeachment of President Trump. In the months since, she’s been challenging her party on a different front, attracting controversy for her criticisms of Israel, which some have characterized as anti-Semitic. ', 'Ms. Tlaib has repeatedly denied that there’s any anti-Semitism behind what she’s said. But she hasn’t spoken at length about the controversy or explained where she’s coming from. So a few weeks ago, we traveled back to visit her at her congressional office in Detroit.', 'If you missed Part 1 of this series, you can listen here.', '[For an exclusive look at how the biggest stories on “The Daily” podcast come together, subscribe to our newsletter. Read the latest edition here.]', 'On today’s episode:', 'Background coverage:', 'Tune in, and tell us what you think. Email us at thedaily@nytimes.com. Follow Michael Barbaro on Twitter: @mikiebarb. And if you’re interested in advertising with “The Daily,” write to us at thedaily-ads@nytimes.com.']\n"
     ]
    }
   ],
   "source": [
    "text_list = []\n",
    "# Get the text from each article\n",
    "for url in urls[1:2]:\n",
    "    print('\\n'+url)\n",
    "    url_response = urllib.request.urlopen(url)\n",
    "    url_html = url_response.read()\n",
    "    url_soup = BeautifulSoup(url_html, 'html.parser')\n",
    "    \n",
    "    text = url_soup.findAll('p', {'class': 'css-1ygdjhk evys1bk0'})\n",
    "    for t in text:\n",
    "        text_list.append(t.text)\n",
    "        \n",
    "    print(text_list)"
   ]
  },
  {
   "cell_type": "code",
   "execution_count": 51,
   "metadata": {
    "scrolled": true,
    "slideshow": {
     "slide_type": "slide"
    }
   },
   "outputs": [],
   "source": [
    "def process_text(text_list):\n",
    "    sentences = sent_tokenize(' '.join(text_list))\n",
    "    filtered_words = []\n",
    "    stopwords = nltk.corpus.stopwords.words('english')\n",
    "    \n",
    "    # Filter out stopwords\n",
    "    for sentence in sentences:\n",
    "        for word in word_tokenize(sentence.lower()):\n",
    "            if word not in stopwords:\n",
    "                filtered_words.append(word)\n",
    "    \n",
    "    \n",
    "    # Find the frequency of occurrence of each word\n",
    "    word_frequencies = {}\n",
    "    for word in filtered_words:\n",
    "        if word not in word_frequencies.keys():\n",
    "            word_frequencies[word] = 1\n",
    "        else:\n",
    "            word_frequencies[word] += 1\n",
    "    \n",
    "    # Find weighted frequency by dividing # of occurrences by frequency of most occurring word\n",
    "    maximum_frequency = 1\n",
    "    if not word_frequencies:\n",
    "        maximum_frequency = max(word_frequencies.values())\n",
    "    for word in word_frequencies.keys():  \n",
    "        word_frequencies[word] = (word_frequencies[word]/maximum_frequency)\n",
    "        \n",
    "    # Give each sentence a score based on the sum of all the weighted frequencies\n",
    "    sentence_scores = {} \n",
    "    for sentence in sentences:\n",
    "        for word in nltk.word_tokenize(sentence.lower()):\n",
    "            if word in word_frequencies.keys():\n",
    "                if sentence not in sentence_scores.keys():\n",
    "                    sentence_scores[sentence] = word_frequencies[word]\n",
    "                else:\n",
    "                    sentence_scores[sentence] += word_frequencies[word]\n",
    "    \n",
    "    print('Summary:')\n",
    "    # Use heapq library to take the 3 sentences with the highest sentence scores to create the summary\n",
    "    summary_sentences = heapq.nlargest(3, sentence_scores, key=sentence_scores.get)\n",
    "    summary = ' '.join(summary_sentences)\n",
    "    print(summary)\n"
   ]
  },
  {
   "cell_type": "code",
   "execution_count": 60,
   "metadata": {},
   "outputs": [
    {
     "name": "stdout",
     "output_type": "stream",
     "text": [
      "\n",
      "Your Tuesday Evening Briefing, https://www.nytimes.com/2019/05/14/briefing/trade-boeing-gen-x.html\n",
      "Summary:\n",
      "As “Reality Bites” celebrates its 25th anniversary, as groups like Bikini Kill, Wu-Tang Clan and Hootie & the Blowfish reunite for tours, and as the first real Gen X candidates make a run for president, the generation born between 1965 and 1980 is of the moment. He also said he was considering additional levies on nearly every imported product and referred to the trade dispute as “a little squabble.” The U.S. now has the highest tariff rate among developed countries, outranking Canada, Germany and France, as well as China, Russia and Turkey. The inquiry stems from claims by Mr. Cohen, the president’s former personal lawyer, who told Congress this year, above, that the lawyers in question helped edit false testimony he gave in 2017.\n",
      "\n",
      "Listen to ‘The Daily’, https://www.nytimes.com/2019/05/14/podcasts/the-daily/rashida-tlaib-israel-palestinians.html\n",
      "Summary:\n",
      "Listen and subscribe to our podcast from your mobile device: Via Apple Podcasts | Via RadioPublic | Via Stitcher When we last spoke with Representative Rashida Tlaib, she had just been sworn in — and had fulfilled the fears of Democratic leaders by calling for the impeachment of President Trump. In the months since, she’s been challenging her party on a different front, attracting controversy for her criticisms of Israel, which some have characterized as anti-Semitic. On today’s episode: Background coverage: Tune in, and tell us what you think.\n",
      "\n",
      "The ‘In Her Words’ Newsletter, https://www.nytimes.com/2019/05/14/health/women-alcohol-drinking.html\n",
      "Summary:\n",
      "In the 1990s, the critic Molly Haskell described Day as “challenging, in her working-woman roles, the limited destiny of women to marry, live happily ever after and never be heard from again.” “My public image,” Day once said, “is unshakably that of America’s wholesome virgin, the girl next door, carefree and brimming with happiness. “Just holding a beer bottle increased perceptions of intoxication and sexual availability for women.” — Jeanine Skorinko, a psychology researcher and author of a recent study about women and alcohol When Brock Turner, the former Stanford swimmer who was found guilty in 2016 of sexually assaulting an unconscious woman on campus, appealed his conviction, he and his lawyers devoted 60 pages to how intoxicated the victim seemed. “Less human” meant they were perceived to lack self-restraint and were described as mechanical and cold, unsophisticated, superficial, shallow, less intelligent and rational, as well as more immoral.\n",
      "\n",
      "Trump’s Tariffs, Once Seen as Leverage, May Be Here to Stay, https://www.nytimes.com/2019/05/14/us/politics/trump-tariffs-china.html\n",
      "Summary:\n",
      "At a briefing last week, Steven Mnuchin, the Treasury secretary, praised the president’s trade policies for helping economic growth thus far and said the administration supports “free and fair reciprocal trade.” But if the goal really is freer trade, the administration has never been further from achieving that goal than it is today, said Chad Bown, a senior fellow at the Peterson Institute for International Economics. That is now more than twice as high as the rate for Canada, Britain, Italy, Germany and France, and higher than most emerging markets, including Russia, Turkey and even China, Mr. Slok said. Douglas Irwin, a trade historian at Dartmouth College, said Mr. Trump’s tariff battle with China was bringing about “a new status quo for the world economy.” “If we do have this consensus that we want to isolate ourselves from China, that’s a big historic shift in U.S. trade policy,” Mr. Irwin said.\n",
      "\n",
      "In China, Some Fear the End of ‘Chimerica’, https://www.nytimes.com/2019/05/14/business/us-china-tariffs.html\n",
      "Summary:\n",
      "“From the day we were born, my generation has always seen the country’s economy heading for the better,” Feng Dahui, an early Alibaba employee and an internet entrepreneur in the city of Hangzhou, wrote on his timeline on WeChat, the Chinese social media service, on Monday evening. “It won’t end easily.” Another popular, and subsequently censored, article had the headline “The Reasons Behind the Chimerica Breakup,” recalling the portmanteau coined by Niall Ferguson and Moritz Schularick. Xiao Yu said the e-commerce business he founded, OFashion, which sells luxury goods from Europe and the United States to Chinese consumers, saw growth slow in the second half of last year partly because of the trade war.\n"
     ]
    }
   ],
   "source": [
    "text_list = []\n",
    "# Scrape the first 5 articles and call process_text() to get the extracted summary\n",
    "for i in range(5):\n",
    "    print('\\n'+titles[i]+\", \"+urls[i])\n",
    "    url_response = urllib.request.urlopen(urls[i])\n",
    "    url_html = url_response.read()\n",
    "    url_soup = BeautifulSoup(url_html, 'html.parser')\n",
    "    \n",
    "    text = url_soup.findAll('p', {'class': 'css-1ygdjhk evys1bk0'})\n",
    "    for t in text:\n",
    "        text_list.append(t.text)\n",
    "        \n",
    "    process_text(text_list)\n",
    "    text_list = []"
   ]
  },
  {
   "cell_type": "code",
   "execution_count": null,
   "metadata": {},
   "outputs": [],
   "source": []
  }
 ],
 "metadata": {
  "celltoolbar": "Slideshow",
  "kernelspec": {
   "display_name": "Python 3",
   "language": "python",
   "name": "python3"
  },
  "language_info": {
   "codemirror_mode": {
    "name": "ipython",
    "version": 3
   },
   "file_extension": ".py",
   "mimetype": "text/x-python",
   "name": "python",
   "nbconvert_exporter": "python",
   "pygments_lexer": "ipython3",
   "version": "3.7.3"
  }
 },
 "nbformat": 4,
 "nbformat_minor": 2
}
